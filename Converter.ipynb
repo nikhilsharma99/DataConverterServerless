{
 "cells": [
  {
   "cell_type": "code",
   "execution_count": 2,
   "metadata": {},
   "outputs": [
    {
     "name": "stdout",
     "output_type": "stream",
     "text": [
      "F1E6E63676C75000 {'time': 1668181615, 'state': 'error', 'state_of_charge': 99.5, 'temperature': 20.0}\n",
      "9164293726C85400 {'time': 1668453961, 'state': 'discharge', 'state_of_charge': 100.0, 'temperature': 22.0}\n",
      "6188293726C75C00 {'time': 1668454534, 'state': 'discharge', 'state_of_charge': 99.5, 'temperature': 26.0}\n"
     ]
    }
   ],
   "source": [
    "def convertbatterydata(payload):\n",
    "    state_map = {\n",
    "        0: \"power off\",\n",
    "        1: \"power on\",\n",
    "        2: \"discharge\",\n",
    "        3: \"charge\",\n",
    "        4: \"charge complete\",\n",
    "        5: \"host mode\",\n",
    "        6: \"shutdown\",\n",
    "        7: \"error\",\n",
    "        8: \"undefined\"\n",
    "    }\n",
    "    #since the encoding is in little endian the values are stored in opposite order of the memory address\n",
    "    #so making it in big indian for sake of simplicity\n",
    "    #in this function byte order is reversed\n",
    "    def convert_little_endian_to_big_indian_encoding(hex):\n",
    "        #using bit operations to modify encoding\n",
    "        ba = bytearray.fromhex(hex)\n",
    "        ba.reverse()\n",
    "        return ba.hex()\n",
    "    \n",
    "    #making the payload to big endian encoding\n",
    "    payload = convert_little_endian_to_big_indian_encoding(payload)\n",
    "\n",
    "    # since using bit conversion to int for the values\n",
    "    # data will be of format 00BBCCSTTTTTTTTX\n",
    "    #                        0123456789ABCDEF \n",
    "    #so we are getting the payload and dividing it into required pieces \n",
    "    type = int( payload[15] ,16)\n",
    "    time= int(payload[7:15] ,16)\n",
    "    state = state_map[int(payload[6] ,16)] \n",
    "    state_of_charge = int( payload[4:6], 16)\n",
    "    battery_temprature = int(payload[2:4],16)\n",
    "   \n",
    "    #encapsulating the values in dict to return \n",
    "    return {   \n",
    "        \"time\" : time,\n",
    "        \"state\" : state,\n",
    "        \"state_of_charge\" : state_of_charge/2,\n",
    "        \"temperature\": battery_temprature/2 - 20\n",
    "    }\n",
    "\n",
    "\n",
    "print( \"F1E6E63676C75000\" ,convertbatterydata(\"F1E6E63676C75000\"))\n",
    "print(\"9164293726C85400\" , convertbatterydata(\"9164293726C85400\"))\n",
    "print(\"6188293726C75C00\", convertbatterydata(\"6188293726C75C00\"))\n",
    "\n"
   ]
  }
 ],
 "metadata": {
  "kernelspec": {
   "display_name": "Python 3",
   "language": "python",
   "name": "python3"
  },
  "language_info": {
   "codemirror_mode": {
    "name": "ipython",
    "version": 3
   },
   "file_extension": ".py",
   "mimetype": "text/x-python",
   "name": "python",
   "nbconvert_exporter": "python",
   "pygments_lexer": "ipython3",
   "version": "3.12.2"
  }
 },
 "nbformat": 4,
 "nbformat_minor": 2
}
